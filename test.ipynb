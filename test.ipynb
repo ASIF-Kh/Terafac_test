{
 "cells": [
  {
   "cell_type": "code",
   "execution_count": 2,
   "metadata": {},
   "outputs": [],
   "source": [
    "import asyncio\n",
    "import websockets\n",
    "import requests\n",
    "import json\n",
    "\n",
    "async def fetch_github_data(repo_url):\n",
    "    api_url = f\"https://api.github.com/repos/{repo_url.split('github.com/')[1]}/contents\"\n",
    "    response = requests.get(api_url)\n",
    "    return response.json()"
   ]
  },
  {
   "cell_type": "code",
   "execution_count": 3,
   "metadata": {},
   "outputs": [],
   "source": [
    "repo_url = \"https://github.com/jaspreetsidhu3/voice_assistant\"\n",
    "repo_data = await fetch_github_data(repo_url)"
   ]
  },
  {
   "cell_type": "code",
   "execution_count": 4,
   "metadata": {},
   "outputs": [
    {
     "data": {
      "text/plain": [
       "[{'name': '.idea',\n",
       "  'path': '.idea',\n",
       "  'sha': '44a4d20d58e2016cd1eb72cb5311dc8124cd9b7f',\n",
       "  'size': 0,\n",
       "  'url': 'https://api.github.com/repos/jaspreetsidhu3/voice_assistant/contents/.idea?ref=master',\n",
       "  'html_url': 'https://github.com/jaspreetsidhu3/voice_assistant/tree/master/.idea',\n",
       "  'git_url': 'https://api.github.com/repos/jaspreetsidhu3/voice_assistant/git/trees/44a4d20d58e2016cd1eb72cb5311dc8124cd9b7f',\n",
       "  'download_url': None,\n",
       "  'type': 'dir',\n",
       "  '_links': {'self': 'https://api.github.com/repos/jaspreetsidhu3/voice_assistant/contents/.idea?ref=master',\n",
       "   'git': 'https://api.github.com/repos/jaspreetsidhu3/voice_assistant/git/trees/44a4d20d58e2016cd1eb72cb5311dc8124cd9b7f',\n",
       "   'html': 'https://github.com/jaspreetsidhu3/voice_assistant/tree/master/.idea'}},\n",
       " {'name': 'README.md',\n",
       "  'path': 'README.md',\n",
       "  'sha': 'ae08f20026124a63ea353264c2a34eed94a68ac9',\n",
       "  'size': 1414,\n",
       "  'url': 'https://api.github.com/repos/jaspreetsidhu3/voice_assistant/contents/README.md?ref=master',\n",
       "  'html_url': 'https://github.com/jaspreetsidhu3/voice_assistant/blob/master/README.md',\n",
       "  'git_url': 'https://api.github.com/repos/jaspreetsidhu3/voice_assistant/git/blobs/ae08f20026124a63ea353264c2a34eed94a68ac9',\n",
       "  'download_url': 'https://raw.githubusercontent.com/jaspreetsidhu3/voice_assistant/master/README.md',\n",
       "  'type': 'file',\n",
       "  '_links': {'self': 'https://api.github.com/repos/jaspreetsidhu3/voice_assistant/contents/README.md?ref=master',\n",
       "   'git': 'https://api.github.com/repos/jaspreetsidhu3/voice_assistant/git/blobs/ae08f20026124a63ea353264c2a34eed94a68ac9',\n",
       "   'html': 'https://github.com/jaspreetsidhu3/voice_assistant/blob/master/README.md'}},\n",
       " {'name': 'amigo.py',\n",
       "  'path': 'amigo.py',\n",
       "  'sha': '873e23902b9d82aba2cc0c6534965e1e3b987bb1',\n",
       "  'size': 2570,\n",
       "  'url': 'https://api.github.com/repos/jaspreetsidhu3/voice_assistant/contents/amigo.py?ref=master',\n",
       "  'html_url': 'https://github.com/jaspreetsidhu3/voice_assistant/blob/master/amigo.py',\n",
       "  'git_url': 'https://api.github.com/repos/jaspreetsidhu3/voice_assistant/git/blobs/873e23902b9d82aba2cc0c6534965e1e3b987bb1',\n",
       "  'download_url': 'https://raw.githubusercontent.com/jaspreetsidhu3/voice_assistant/master/amigo.py',\n",
       "  'type': 'file',\n",
       "  '_links': {'self': 'https://api.github.com/repos/jaspreetsidhu3/voice_assistant/contents/amigo.py?ref=master',\n",
       "   'git': 'https://api.github.com/repos/jaspreetsidhu3/voice_assistant/git/blobs/873e23902b9d82aba2cc0c6534965e1e3b987bb1',\n",
       "   'html': 'https://github.com/jaspreetsidhu3/voice_assistant/blob/master/amigo.py'}},\n",
       " {'name': 'requirements.txt',\n",
       "  'path': 'requirements.txt',\n",
       "  'sha': '9a9f115a428909dd94be6e3739ec11ef99d318de',\n",
       "  'size': 224,\n",
       "  'url': 'https://api.github.com/repos/jaspreetsidhu3/voice_assistant/contents/requirements.txt?ref=master',\n",
       "  'html_url': 'https://github.com/jaspreetsidhu3/voice_assistant/blob/master/requirements.txt',\n",
       "  'git_url': 'https://api.github.com/repos/jaspreetsidhu3/voice_assistant/git/blobs/9a9f115a428909dd94be6e3739ec11ef99d318de',\n",
       "  'download_url': 'https://raw.githubusercontent.com/jaspreetsidhu3/voice_assistant/master/requirements.txt',\n",
       "  'type': 'file',\n",
       "  '_links': {'self': 'https://api.github.com/repos/jaspreetsidhu3/voice_assistant/contents/requirements.txt?ref=master',\n",
       "   'git': 'https://api.github.com/repos/jaspreetsidhu3/voice_assistant/git/blobs/9a9f115a428909dd94be6e3739ec11ef99d318de',\n",
       "   'html': 'https://github.com/jaspreetsidhu3/voice_assistant/blob/master/requirements.txt'}}]"
      ]
     },
     "execution_count": 4,
     "metadata": {},
     "output_type": "execute_result"
    }
   ],
   "source": [
    "repo_data"
   ]
  },
  {
   "cell_type": "code",
   "execution_count": null,
   "metadata": {},
   "outputs": [],
   "source": []
  }
 ],
 "metadata": {
  "kernelspec": {
   "display_name": "gemini",
   "language": "python",
   "name": "python3"
  },
  "language_info": {
   "codemirror_mode": {
    "name": "ipython",
    "version": 3
   },
   "file_extension": ".py",
   "mimetype": "text/x-python",
   "name": "python",
   "nbconvert_exporter": "python",
   "pygments_lexer": "ipython3",
   "version": "3.10.15"
  }
 },
 "nbformat": 4,
 "nbformat_minor": 2
}
